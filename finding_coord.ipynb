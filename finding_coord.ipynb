{
  "cells": [
    {
      "cell_type": "code",
      "execution_count": null,
      "id": "c9c973b6-c4cd-42b5-8c89-ff407d4a4243",
      "metadata": {
        "id": "c9c973b6-c4cd-42b5-8c89-ff407d4a4243",
        "outputId": "99786523-67de-4023-c07e-3776edee7f88"
      },
      "outputs": [
        {
          "name": "stdout",
          "output_type": "stream",
          "text": [
            "241   144\n",
            "260   148\n",
            "330   224\n",
            "328   226\n",
            "554   367\n",
            "577   375\n",
            "648   432\n",
            "647   435\n",
            "1043   291\n",
            "1068   297\n",
            "1033   341\n",
            "1033   343\n",
            "273   296\n",
            "283   300\n",
            "237   192\n",
            "247   196\n",
            "974   200\n",
            "997   203\n",
            "1063   475\n",
            "1089   483\n"
          ]
        }
      ],
      "source": [
        "# importing the module\n",
        "import cv2\n",
        "\n",
        "# function to display the coordinates of\n",
        "# of the points clicked on the image\n",
        "def click_event(event, x, y, flags, params):\n",
        "\n",
        "\t# checking for left mouse clicks\n",
        "\tif event == cv2.EVENT_LBUTTONDOWN:\n",
        "\n",
        "\t\t# displaying the coordinates\n",
        "\t\t# on the Shell\n",
        "\t\tprint(x, ' ', y)\n",
        "\n",
        "\t\t# displaying the coordinates\n",
        "\t\t# on the image window\n",
        "\t\tfont = cv2.FONT_HERSHEY_SIMPLEX\n",
        "\t\tcv2.putText(img, str(x) + ',' +\n",
        "\t\t\t\t\tstr(y), (x,y), font,\n",
        "\t\t\t\t\t1, (255, 0, 0), 2)\n",
        "\t\tcv2.imshow('image', img)\n",
        "\n",
        "\t# checking for right mouse clicks\t\n",
        "\tif event==cv2.EVENT_RBUTTONDOWN:\n",
        "\n",
        "\t\t# displaying the coordinates\n",
        "\t\t# on the Shell\n",
        "\t\tprint(x, ' ', y)\n",
        "\n",
        "\t\t# displaying the coordinates\n",
        "\t\t# on the image window\n",
        "\t\tfont = cv2.FONT_HERSHEY_SIMPLEX\n",
        "\t\tb = img[y, x, 0]\n",
        "\t\tg = img[y, x, 1]\n",
        "\t\tr = img[y, x, 2]\n",
        "\t\tcv2.putText(img, str(b) + ',' +\n",
        "\t\t\t\t\tstr(g) + ',' + str(r),\n",
        "\t\t\t\t\t(x,y), font, 1,\n",
        "\t\t\t\t\t(255, 255, 0), 2)\n",
        "\t\tcv2.imshow('image', img)\n",
        "\n",
        "# driver function\n",
        "if __name__==\"__main__\":\n",
        "\n",
        "\t# reading the image\n",
        "\timg = cv2.imread('flipped_mono.jpg', 1)\n",
        "\n",
        "\t# displaying the image\n",
        "\tcv2.imshow('image', img)\n",
        "\n",
        "\t# setting mouse handler for the image\n",
        "\t# and calling the click_event() function\n",
        "\tcv2.setMouseCallback('image', click_event)\n",
        "\n",
        "\t# wait for a key to be pressed to exit\n",
        "\tcv2.waitKey(0)\n",
        "\n",
        "\t# close the window\n",
        "\tcv2.destroyAllWindows()\n"
      ]
    },
    {
      "cell_type": "code",
      "execution_count": null,
      "id": "bd0c0764-782e-41c1-a71d-1c641089664f",
      "metadata": {
        "id": "bd0c0764-782e-41c1-a71d-1c641089664f"
      },
      "outputs": [],
      "source": []
    }
  ],
  "metadata": {
    "kernelspec": {
      "display_name": "Python 3 (ipykernel)",
      "language": "python",
      "name": "python3"
    },
    "language_info": {
      "codemirror_mode": {
        "name": "ipython",
        "version": 3
      },
      "file_extension": ".py",
      "mimetype": "text/x-python",
      "name": "python",
      "nbconvert_exporter": "python",
      "pygments_lexer": "ipython3",
      "version": "3.10.4"
    },
    "colab": {
      "provenance": []
    }
  },
  "nbformat": 4,
  "nbformat_minor": 5
}